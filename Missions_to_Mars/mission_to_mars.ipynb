{
 "nbformat": 4,
 "nbformat_minor": 2,
 "metadata": {
  "language_info": {
   "name": "python",
   "codemirror_mode": {
    "name": "ipython",
    "version": 3
   },
   "version": "3.7.4-final"
  },
  "orig_nbformat": 2,
  "file_extension": ".py",
  "mimetype": "text/x-python",
  "name": "python",
  "npconvert_exporter": "python",
  "pygments_lexer": "ipython3",
  "version": 3,
  "kernelspec": {
   "name": "python37464bitbaseconda621df6d49d2c4311a89d7503a44084b1",
   "display_name": "Python 3.7.4 64-bit ('base': conda)"
  }
 },
 "cells": [
  {
   "cell_type": "code",
   "execution_count": 12,
   "metadata": {},
   "outputs": [],
   "source": [
    "# Dependencies\n",
    "from bs4 import BeautifulSoup\n",
    "import requests\n",
    "from splinter import Browser"
   ]
  },
  {
   "cell_type": "code",
   "execution_count": 2,
   "metadata": {
    "tags": [
     "outputPrepend"
    ]
   },
   "outputs": [],
   "source": [
    "# 1. MARS NEWS SITE\n",
    "\n",
    "# URL of page to be scraped -- we're going to SCRAP the WEB PAGE. Instead of using a path to a File.\n",
    "url = 'https://mars.nasa.gov/news/'\n",
    "\n",
    "# Retrieve page with the requests module\n",
    "response = requests.get(url)\n",
    "#response\n",
    "#print(response.text) #it will bring the text of the page we are scrapping"
   ]
  },
  {
   "cell_type": "code",
   "execution_count": 3,
   "metadata": {
    "tags": [
     "outputPrepend"
    ]
   },
   "outputs": [],
   "source": [
    "# Create BeautifulSoup object; parse with 'html.parser'\n",
    "soup = BeautifulSoup(response.text, 'html.parser')\n",
    "#print(soup.prettify())"
   ]
  },
  {
   "cell_type": "code",
   "execution_count": 4,
   "metadata": {},
   "outputs": [],
   "source": [
    "#Find ALL lists of all NEWS  --> NOT WORKING\n",
    "#news = soup.find_all('li', class_=\"slide\")\n",
    "#print(news)"
   ]
  },
  {
   "cell_type": "code",
   "execution_count": 5,
   "metadata": {},
   "outputs": [
    {
     "output_type": "stream",
     "name": "stdout",
     "text": "\n\nMars Helicopter Attached to NASA's Perseverance Rover\n\n\n"
    }
   ],
   "source": [
    "# first Title\n",
    "news_title = soup.find(\"div\",class_=\"content_title\").text\n",
    "print(news_title)\n",
    "\n",
    "#¿SERÁ DEL SUGGESTED FEATURES?"
   ]
  },
  {
   "cell_type": "code",
   "execution_count": 6,
   "metadata": {},
   "outputs": [
    {
     "output_type": "stream",
     "name": "stdout",
     "text": "\nThe team also fueled the rover's sky crane to get ready for this summer's history-making launch.\n\n"
    }
   ],
   "source": [
    "# first Parragraph text\n",
    "news_p = soup.find(\"div\", class_=\"rollover_description_inner\").text \n",
    "print(news_p)\n",
    "\n",
    "#¿SERÁ DEL SUGGESTED FEATURES?"
   ]
  },
  {
   "cell_type": "code",
   "execution_count": 8,
   "metadata": {},
   "outputs": [
    {
     "output_type": "stream",
     "name": "stdout",
     "text": "[<div class=\"rollover_description_inner\">\nThe team also fueled the rover's sky crane to get ready for this summer's history-making launch.\n</div>, <div class=\"rollover_description_inner\">\nAfter the rover was shipped from JPL to Kennedy Space Center, the team is getting closer to finalizing the spacecraft for launch later this summer.\n</div>, <div class=\"rollover_description_inner\">\nAs part of NASA's 'Send Your Name to Mars' campaign, they've been stenciled onto three microchips along with essays from NASA's 'Name the Rover' contest. Next stop: Mars.\n</div>, <div class=\"rollover_description_inner\">\nNASA chose a seventh-grader from Virginia as winner of the agency's \"Name the Rover\" essay contest. Alexander Mather's entry for \"Perseverance\" was voted tops among 28,000 entries. \n</div>, <div class=\"rollover_description_inner\">\nRobotic spacecraft will be able to communicate with the dish using radio waves and lasers.\n</div>, <div class=\"rollover_description_inner\">\nJim Bridenstine addresses NASA's ambitious plans for the coming years, including Mars Sample Return.\n</div>]\n"
    }
   ],
   "source": [
    "items = soup.find_all(\"div\", class_=\"rollover_description_inner\") # ALL descriptions / DOESN'T SHOW ALL!!!\n",
    "print(items)"
   ]
  },
  {
   "cell_type": "code",
   "execution_count": 23,
   "metadata": {},
   "outputs": [],
   "source": [
    "# 2. JPL MARS SPACE IMAGE\n",
    "\n",
    "executable_path = {'executable_path': 'chromedriver.exe'}\n",
    "browser = Browser('chrome', **executable_path, headless=False)\n",
    "\n",
    "url = 'https://www.jpl.nasa.gov/spaceimages/?search=&category=Mars'\n",
    "browser.visit(url)"
   ]
  },
  {
   "cell_type": "code",
   "execution_count": 24,
   "metadata": {},
   "outputs": [],
   "source": [
    "#Click on button \"FULL IMAGE\"\n",
    "browser.find_by_id('full_image').first.click()"
   ]
  },
  {
   "cell_type": "code",
   "execution_count": 29,
   "metadata": {},
   "outputs": [],
   "source": [
    "#Click on button \"MORE INFO\"\n",
    "browser.find_link_by_partial_text('more info').first.click()"
   ]
  },
  {
   "cell_type": "code",
   "execution_count": 46,
   "metadata": {},
   "outputs": [
    {
     "output_type": "stream",
     "name": "stdout",
     "text": "/spaceimages/images/largesize/PIA16682_hires.jpg\n"
    }
   ],
   "source": [
    "# HTML object\n",
    "html = browser.html\n",
    "\n",
    "# Parse HTML with Beautiful Soup\n",
    "soup = BeautifulSoup(html, 'html.parser')\n",
    "\n",
    "# Retrieve full size image partial link (JPG format)\n",
    "feature_image = soup.find(\"figure\", class_=\"lede\").a[\"href\"]\n",
    "print(feature_image)"
   ]
  },
  {
   "cell_type": "code",
   "execution_count": 47,
   "metadata": {},
   "outputs": [
    {
     "output_type": "stream",
     "name": "stdout",
     "text": "https://www.jpl.nasa.gov//spaceimages/images/largesize/PIA16682_hires.jpg\n"
    }
   ],
   "source": [
    "#Link of full size image - with HTTPS:// link\n",
    "featured_image_url =\"https://www.jpl.nasa.gov/\" + feature_image\n",
    "print(featured_image_url)"
   ]
  },
  {
   "cell_type": "code",
   "execution_count": 48,
   "metadata": {},
   "outputs": [
    {
     "output_type": "stream",
     "name": "stdout",
     "text": "<div class=\"download_tiff\">\n<p>Full-Res JPG: <a href=\"//photojournal.jpl.nasa.gov/jpeg/PIA16682.jpg\">PIA16682.jpg</a></p>\n</div>\n//photojournal.jpl.nasa.gov/jpeg/PIA16682.jpg\n"
    }
   ],
   "source": [
    "# ANOTHER WAY TO GET THE IMAGE\n",
    "# HTML object\n",
    "html = browser.html\n",
    "\n",
    "# Parse HTML with Beautiful Soup\n",
    "soup = BeautifulSoup(html, 'html.parser')\n",
    "\n",
    "# Retrieve all elements that contain images links. The second one is in JPG format\n",
    "images= soup.find_all('div', class_=\"download_tiff\")[1]\n",
    "print(images)\n",
    "\n",
    "#Link of full size image - from PHOTOJOURNAL\n",
    "image_url =images.a[\"href\"]\n",
    "print(image_url)"
   ]
  },
  {
   "cell_type": "code",
   "execution_count": null,
   "metadata": {},
   "outputs": [],
   "source": []
  }
 ]
}