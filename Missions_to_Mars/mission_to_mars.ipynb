{
 "nbformat": 4,
 "nbformat_minor": 2,
 "metadata": {
  "language_info": {
   "name": "python",
   "codemirror_mode": {
    "name": "ipython",
    "version": 3
   },
   "version": "3.7.4-final"
  },
  "orig_nbformat": 2,
  "file_extension": ".py",
  "mimetype": "text/x-python",
  "name": "python",
  "npconvert_exporter": "python",
  "pygments_lexer": "ipython3",
  "version": 3,
  "kernelspec": {
   "name": "python37464bitbaseconda621df6d49d2c4311a89d7503a44084b1",
   "display_name": "Python 3.7.4 64-bit ('base': conda)"
  }
 },
 "cells": [
  {
   "cell_type": "code",
   "execution_count": 21,
   "metadata": {},
   "outputs": [],
   "source": [
    "# Dependencies\n",
    "from bs4 import BeautifulSoup\n",
    "import requests\n",
    "from splinter import Browser\n",
    "import pandas as pd"
   ]
  },
  {
   "cell_type": "code",
   "execution_count": 22,
   "metadata": {
    "tags": [
     "outputPrepend"
    ]
   },
   "outputs": [],
   "source": [
    "# 1. MARS NEWS SITE\n",
    "\n",
    "# URL of page to be scraped -- we're going to SCRAP the WEB PAGE. Instead of using a path to a File.\n",
    "url = 'https://mars.nasa.gov/news/'\n",
    "\n",
    "# Retrieve page with the requests module\n",
    "response = requests.get(url)\n",
    ""
   ]
  },
  {
   "cell_type": "code",
   "execution_count": 23,
   "metadata": {
    "tags": [
     "outputPrepend"
    ]
   },
   "outputs": [],
   "source": [
    "# Create BeautifulSoup object; parse with 'html.parser'\n",
    "soup = BeautifulSoup(response.text, 'html.parser')\n",
    "#print(soup.prettify())"
   ]
  },
  {
   "cell_type": "code",
   "execution_count": 26,
   "metadata": {},
   "outputs": [
    {
     "output_type": "stream",
     "name": "stdout",
     "text": "\n\nMars Helicopter Attached to NASA's Perseverance Rover\n\n\n"
    }
   ],
   "source": [
    "# first Title\n",
    "news_title = soup.find(\"div\",class_=\"content_title\").text\n",
    "print(news_title)"
   ]
  },
  {
   "cell_type": "code",
   "execution_count": 5,
   "metadata": {},
   "outputs": [
    {
     "output_type": "stream",
     "name": "stdout",
     "text": "\nThe team also fueled the rover's sky crane to get ready for this summer's history-making launch.\n\n"
    }
   ],
   "source": [
    "# first Parragraph text\n",
    "news_p = soup.find(\"div\", class_=\"rollover_description_inner\").text \n",
    "print(news_p)\n",
    ""
   ]
  },
  {
   "cell_type": "code",
   "execution_count": 6,
   "metadata": {},
   "outputs": [],
   "source": [
    "# 2. JPL MARS SPACE IMAGE\n",
    "\n",
    "executable_path = {'executable_path': 'chromedriver.exe'}\n",
    "browser = Browser('chrome', **executable_path, headless=False)\n",
    "\n",
    "url = 'https://www.jpl.nasa.gov/spaceimages/?search=&category=Mars'\n",
    "browser.visit(url)"
   ]
  },
  {
   "cell_type": "code",
   "execution_count": 7,
   "metadata": {},
   "outputs": [],
   "source": [
    "#Click on button \"FULL IMAGE\"\n",
    "browser.find_by_id('full_image').first.click()"
   ]
  },
  {
   "cell_type": "code",
   "execution_count": 8,
   "metadata": {},
   "outputs": [],
   "source": [
    "#Click on button \"MORE INFO\"\n",
    "browser.find_link_by_partial_text('more info').first.click()"
   ]
  },
  {
   "cell_type": "code",
   "execution_count": 9,
   "metadata": {},
   "outputs": [
    {
     "output_type": "stream",
     "name": "stdout",
     "text": "/spaceimages/images/largesize/PIA18791_hires.jpg\n"
    }
   ],
   "source": [
    "# HTML object\n",
    "html = browser.html\n",
    "\n",
    "# Parse HTML with Beautiful Soup\n",
    "soup = BeautifulSoup(html, 'html.parser')\n",
    "\n",
    "# Retrieve full size image partial link (JPG format)\n",
    "feature_image = soup.find(\"figure\", class_=\"lede\").a[\"href\"]\n",
    "print(feature_image)"
   ]
  },
  {
   "cell_type": "code",
   "execution_count": 10,
   "metadata": {},
   "outputs": [
    {
     "output_type": "stream",
     "name": "stdout",
     "text": "https://www.jpl.nasa.gov//spaceimages/images/largesize/PIA18791_hires.jpg\n"
    }
   ],
   "source": [
    "#Link of full size image - with HTTPS:// link\n",
    "featured_image_url =\"https://www.jpl.nasa.gov/\" + feature_image\n",
    "print(featured_image_url)"
   ]
  },
  {
   "cell_type": "code",
   "execution_count": 11,
   "metadata": {},
   "outputs": [],
   "source": [
    "#Close Browser\n",
    "browser.quit()"
   ]
  },
  {
   "cell_type": "code",
   "execution_count": 12,
   "metadata": {
    "tags": [
     "outputPrepend"
    ]
   },
   "outputs": [],
   "source": [
    "# 3. MARS WEATHER TWEET\n",
    "\n",
    "url = 'https://twitter.com/marswxreport?lang=en'\n",
    "response = requests.get(url)\n",
    "soup = BeautifulSoup(response.content, 'html.parser')\n",
    ""
   ]
  },
  {
   "cell_type": "code",
   "execution_count": 13,
   "metadata": {},
   "outputs": [
    {
     "output_type": "stream",
     "name": "stdout",
     "text": "InSight sol 485 (2020-04-07) low -93.4ºC (-136.1ºF) high -7.0ºC (19.4ºF)\nwinds from the WNW at 5.2 m/s (11.5 mph) gusting to 17.4 m/s (38.9 mph)\npressure at 6.50 hPa\n"
    }
   ],
   "source": [
    "#Get the first Tweet Parragraph\n",
    "body_content =soup.body.find(\"p\", class_=\"tweet-text\")\n",
    "\n",
    "tweets=[]\n",
    "for body in body_content:\n",
    "    tweets.append(body)\n",
    "\n",
    "mars_weather=tweets[0]\n",
    "print(mars_weather)\n",
    ""
   ]
  },
  {
   "cell_type": "code",
   "execution_count": 14,
   "metadata": {},
   "outputs": [
    {
     "output_type": "execute_result",
     "data": {
      "text/plain": "   Mars characteristics                       Measures\n0  Equatorial Diameter:                       6,792 km\n1       Polar Diameter:                       6,752 km\n2                 Mass:  6.39 × 10^23 kg (0.11 Earths)\n3                Moons:            2 (Phobos & Deimos)\n4       Orbit Distance:       227,943,824 km (1.38 AU)\n5         Orbit Period:           687 days (1.9 years)\n6  Surface Temperature:                   -87 to -5 °C\n7         First Record:              2nd millennium BC\n8          Recorded By:           Egyptian astronomers",
      "text/html": "<div>\n<style scoped>\n    .dataframe tbody tr th:only-of-type {\n        vertical-align: middle;\n    }\n\n    .dataframe tbody tr th {\n        vertical-align: top;\n    }\n\n    .dataframe thead th {\n        text-align: right;\n    }\n</style>\n<table border=\"1\" class=\"dataframe\">\n  <thead>\n    <tr style=\"text-align: right;\">\n      <th></th>\n      <th>Mars characteristics</th>\n      <th>Measures</th>\n    </tr>\n  </thead>\n  <tbody>\n    <tr>\n      <td>0</td>\n      <td>Equatorial Diameter:</td>\n      <td>6,792 km</td>\n    </tr>\n    <tr>\n      <td>1</td>\n      <td>Polar Diameter:</td>\n      <td>6,752 km</td>\n    </tr>\n    <tr>\n      <td>2</td>\n      <td>Mass:</td>\n      <td>6.39 × 10^23 kg (0.11 Earths)</td>\n    </tr>\n    <tr>\n      <td>3</td>\n      <td>Moons:</td>\n      <td>2 (Phobos &amp; Deimos)</td>\n    </tr>\n    <tr>\n      <td>4</td>\n      <td>Orbit Distance:</td>\n      <td>227,943,824 km (1.38 AU)</td>\n    </tr>\n    <tr>\n      <td>5</td>\n      <td>Orbit Period:</td>\n      <td>687 days (1.9 years)</td>\n    </tr>\n    <tr>\n      <td>6</td>\n      <td>Surface Temperature:</td>\n      <td>-87 to -5 °C</td>\n    </tr>\n    <tr>\n      <td>7</td>\n      <td>First Record:</td>\n      <td>2nd millennium BC</td>\n    </tr>\n    <tr>\n      <td>8</td>\n      <td>Recorded By:</td>\n      <td>Egyptian astronomers</td>\n    </tr>\n  </tbody>\n</table>\n</div>"
     },
     "metadata": {},
     "execution_count": 14
    }
   ],
   "source": [
    "# 4. MARS FACTS\n",
    "\n",
    "url = 'https://space-facts.com/mars/'\n",
    "\n",
    "tables = pd.read_html(url)\n",
    "df=tables[0]\n",
    "df.columns = [\"Mars characteristics\",\"Value\"]\n",
    "df"
   ]
  },
  {
   "cell_type": "code",
   "execution_count": 15,
   "metadata": {},
   "outputs": [],
   "source": [
    "#Remove INDEX column\n",
    "df.set_index(\"Mars characteristics\", inplace = True)\n",
    ""
   ]
  },
  {
   "cell_type": "code",
   "execution_count": 16,
   "metadata": {},
   "outputs": [
    {
     "output_type": "execute_result",
     "data": {
      "text/plain": "'<table border=\"1\" class=\"dataframe\">  <thead>    <tr style=\"text-align: right;\">      <th></th>      <th>Measures</th>    </tr>    <tr>      <th>Mars characteristics</th>      <th></th>    </tr>  </thead>  <tbody>    <tr>      <th>Equatorial Diameter:</th>      <td>6,792 km</td>    </tr>    <tr>      <th>Polar Diameter:</th>      <td>6,752 km</td>    </tr>    <tr>      <th>Mass:</th>      <td>6.39 × 10^23 kg (0.11 Earths)</td>    </tr>    <tr>      <th>Moons:</th>      <td>2 (Phobos &amp; Deimos)</td>    </tr>    <tr>      <th>Orbit Distance:</th>      <td>227,943,824 km (1.38 AU)</td>    </tr>    <tr>      <th>Orbit Period:</th>      <td>687 days (1.9 years)</td>    </tr>    <tr>      <th>Surface Temperature:</th>      <td>-87 to -5 °C</td>    </tr>    <tr>      <th>First Record:</th>      <td>2nd millennium BC</td>    </tr>    <tr>      <th>Recorded By:</th>      <td>Egyptian astronomers</td>    </tr>  </tbody></table>'"
     },
     "metadata": {},
     "execution_count": 16
    }
   ],
   "source": [
    "# Convert Dataframe into HTML code / Replace \"new line\" brakes with spaces\n",
    "html_table = df.to_html()\n",
    "html_table.replace('\\n', '')"
   ]
  },
  {
   "cell_type": "code",
   "execution_count": 17,
   "metadata": {},
   "outputs": [],
   "source": [
    "#Save HTML table string to file\n",
    "df.to_html('Mars_table.html')"
   ]
  },
  {
   "cell_type": "code",
   "execution_count": 18,
   "metadata": {},
   "outputs": [],
   "source": [
    "# 5. MARS HEMISPHERES\n",
    "\n",
    "executable_path = {'executable_path': 'chromedriver.exe'}\n",
    "browser = Browser('chrome', **executable_path, headless=False)\n",
    "\n",
    "url = \"https://astrogeology.usgs.gov/search/results?q=hemisphere+enhanced&k1=target&v1=Mars\"\n",
    "browser.visit(url)\n",
    "\n",
    "# Parse HTML with Beautiful Soup to get links to click\n",
    "html = browser.html\n",
    "soup = BeautifulSoup(html, 'html.parser')"
   ]
  },
  {
   "cell_type": "code",
   "execution_count": 19,
   "metadata": {},
   "outputs": [
    {
     "output_type": "stream",
     "name": "stdout",
     "text": "------------------LIST OF LINKS-----------------------\n"
    },
    {
     "output_type": "execute_result",
     "data": {
      "text/plain": "['https://astrogeology.usgs.gov//search/map/Mars/Viking/cerberus_enhanced',\n 'https://astrogeology.usgs.gov//search/map/Mars/Viking/schiaparelli_enhanced',\n 'https://astrogeology.usgs.gov//search/map/Mars/Viking/syrtis_major_enhanced',\n 'https://astrogeology.usgs.gov//search/map/Mars/Viking/valles_marineris_enhanced']"
     },
     "metadata": {},
     "execution_count": 19
    }
   ],
   "source": [
    "# Retrieve LIST of 4 links \n",
    "links_path = soup.find_all(\"div\", class_=\"description\")\n",
    "\n",
    "Links_to_Click=[]\n",
    "\n",
    "for links in links_path:\n",
    "    partial_link= links.a[\"href\"]\n",
    "    final_url = \"https://astrogeology.usgs.gov/\"+partial_link\n",
    "    Links_to_Click.append(final_url)\n",
    "\n",
    "print(\"------------------LIST OF LINKS-----------------------\")\n",
    "#print(Links_to_Click)\n",
    "Links_to_Click"
   ]
  },
  {
   "cell_type": "code",
   "execution_count": 20,
   "metadata": {},
   "outputs": [
    {
     "output_type": "stream",
     "name": "stdout",
     "text": "-----LIST OF DICTIONARIES-------\n"
    },
    {
     "output_type": "execute_result",
     "data": {
      "text/plain": "[{'title': 'Cerberus Hemisphere Enhanced | USGS Astrogeology Science Center',\n  'img_url': 'http://astropedia.astrogeology.usgs.gov/download/Mars/Viking/cerberus_enhanced.tif'},\n {'title': 'Schiaparelli Hemisphere Enhanced | USGS Astrogeology Science Center',\n  'img_url': 'http://astropedia.astrogeology.usgs.gov/download/Mars/Viking/schiaparelli_enhanced.tif'},\n {'title': 'Syrtis Major Hemisphere Enhanced | USGS Astrogeology Science Center',\n  'img_url': 'http://astropedia.astrogeology.usgs.gov/download/Mars/Viking/syrtis_major_enhanced.tif'},\n {'title': 'Valles Marineris Hemisphere Enhanced | USGS Astrogeology Science Center',\n  'img_url': 'http://astropedia.astrogeology.usgs.gov/download/Mars/Viking/valles_marineris_enhanced.tif'}]"
     },
     "metadata": {},
     "execution_count": 20
    }
   ],
   "source": [
    "# Get information of each Hemisphere, TITLE and IMAGE URL. Create List of 4 Dictionaries.\n",
    "hemisphere_image_urls =[]\n",
    "\n",
    "for i in range(len(Links_to_Click)):\n",
    "    #visit/click new urls\n",
    "    browser.visit(Links_to_Click[i])\n",
    "    html2 = browser.html\n",
    "    soup2 = BeautifulSoup(html2, 'html.parser')\n",
    "\n",
    "    img_url = soup2.find(\"div\",class_=\"content\").a[\"href\"]\n",
    "    title = soup2.title.text\n",
    "\n",
    "    mars_dict={\"title\": title,\"img_url\": img_url}\n",
    "    hemisphere_image_urls.append(mars_dict)\n",
    "\n",
    "    # Go back to the original page\n",
    "    browser.back()\n",
    "\n",
    "#Close Browser\n",
    "browser.quit()\n",
    "\n",
    "print(\"-----LIST OF DICTIONARIES-------\")\n",
    "#print(hemisphere_image_urls)\n",
    "hemisphere_image_urls\n",
    ""
   ]
  },
  {
   "cell_type": "code",
   "execution_count": null,
   "metadata": {},
   "outputs": [],
   "source": []
  }
 ]
}