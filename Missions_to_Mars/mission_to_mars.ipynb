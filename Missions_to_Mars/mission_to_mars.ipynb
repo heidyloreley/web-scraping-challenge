{
 "nbformat": 4,
 "nbformat_minor": 2,
 "metadata": {
  "language_info": {
   "name": "python",
   "codemirror_mode": {
    "name": "ipython",
    "version": 3
   },
   "version": "3.7.4-final"
  },
  "orig_nbformat": 2,
  "file_extension": ".py",
  "mimetype": "text/x-python",
  "name": "python",
  "npconvert_exporter": "python",
  "pygments_lexer": "ipython3",
  "version": 3,
  "kernelspec": {
   "name": "python37464bitbaseconda621df6d49d2c4311a89d7503a44084b1",
   "display_name": "Python 3.7.4 64-bit ('base': conda)"
  }
 },
 "cells": [
  {
   "cell_type": "code",
   "execution_count": 1,
   "metadata": {},
   "outputs": [],
   "source": [
    "# Dependencies\n",
    "from bs4 import BeautifulSoup\n",
    "import requests\n",
    "from splinter import Browser\n",
    "import pandas as pd"
   ]
  },
  {
   "cell_type": "code",
   "execution_count": 2,
   "metadata": {
    "tags": [
     "outputPrepend"
    ]
   },
   "outputs": [],
   "source": [
    "# 1. MARS NEWS SITE\n",
    "\n",
    "# URL of page to be scraped -- we're going to SCRAP the WEB PAGE. Instead of using a path to a File.\n",
    "url = 'https://mars.nasa.gov/news/'\n",
    "\n",
    "# Retrieve page with the requests module\n",
    "response = requests.get(url)\n",
    ""
   ]
  },
  {
   "cell_type": "code",
   "execution_count": 3,
   "metadata": {
    "tags": [
     "outputPrepend"
    ]
   },
   "outputs": [],
   "source": [
    "# Create BeautifulSoup object; parse with 'html.parser'\n",
    "soup = BeautifulSoup(response.text, 'html.parser')\n",
    "#print(soup.prettify())"
   ]
  },
  {
   "cell_type": "code",
   "execution_count": 4,
   "metadata": {},
   "outputs": [
    {
     "output_type": "stream",
     "name": "stdout",
     "text": "\n\nMars Helicopter Attached to NASA's Perseverance Rover\n\n\n"
    }
   ],
   "source": [
    "# first Title\n",
    "news_title = soup.find(\"div\",class_=\"content_title\").text\n",
    "print(news_title)"
   ]
  },
  {
   "cell_type": "code",
   "execution_count": 5,
   "metadata": {},
   "outputs": [
    {
     "output_type": "stream",
     "name": "stdout",
     "text": "\nThe team also fueled the rover's sky crane to get ready for this summer's history-making launch.\n\n"
    }
   ],
   "source": [
    "# first Parragraph text\n",
    "news_p = soup.find(\"div\", class_=\"rollover_description_inner\").text \n",
    "print(news_p)\n",
    ""
   ]
  },
  {
   "cell_type": "code",
   "execution_count": 6,
   "metadata": {},
   "outputs": [],
   "source": [
    "# 2. JPL MARS SPACE IMAGE\n",
    "\n",
    "executable_path = {'executable_path': 'chromedriver.exe'}\n",
    "browser = Browser('chrome', **executable_path, headless=False)\n",
    "\n",
    "url = 'https://www.jpl.nasa.gov/spaceimages/?search=&category=Mars'\n",
    "browser.visit(url)"
   ]
  },
  {
   "cell_type": "code",
   "execution_count": 7,
   "metadata": {},
   "outputs": [],
   "source": [
    "#Click on button \"FULL IMAGE\"\n",
    "browser.find_by_id('full_image').first.click()"
   ]
  },
  {
   "cell_type": "code",
   "execution_count": 8,
   "metadata": {},
   "outputs": [],
   "source": [
    "#Click on button \"MORE INFO\"\n",
    "browser.find_link_by_partial_text('more info').first.click()"
   ]
  },
  {
   "cell_type": "code",
   "execution_count": 9,
   "metadata": {},
   "outputs": [
    {
     "output_type": "stream",
     "name": "stdout",
     "text": "/spaceimages/images/largesize/PIA17172_hires.jpg\n"
    }
   ],
   "source": [
    "# HTML object\n",
    "html = browser.html\n",
    "\n",
    "# Parse HTML with Beautiful Soup\n",
    "soup = BeautifulSoup(html, 'html.parser')\n",
    "\n",
    "# Retrieve full size image partial link (JPG format)\n",
    "feature_image = soup.find(\"figure\", class_=\"lede\").a[\"href\"]\n",
    "print(feature_image)"
   ]
  },
  {
   "cell_type": "code",
   "execution_count": 10,
   "metadata": {},
   "outputs": [
    {
     "output_type": "stream",
     "name": "stdout",
     "text": "https://www.jpl.nasa.gov//spaceimages/images/largesize/PIA17172_hires.jpg\n"
    }
   ],
   "source": [
    "#Link of full size image - with HTTPS:// link\n",
    "featured_image_url =\"https://www.jpl.nasa.gov/\" + feature_image\n",
    "print(featured_image_url)"
   ]
  },
  {
   "cell_type": "code",
   "execution_count": null,
   "metadata": {},
   "outputs": [],
   "source": [
    "#Close Browser\n",
    "browser.quit()"
   ]
  },
  {
   "cell_type": "code",
   "execution_count": 11,
   "metadata": {
    "tags": [
     "outputPrepend"
    ]
   },
   "outputs": [],
   "source": [
    "# 3. MARS WEATHER TWEET\n",
    "\n",
    "url = 'https://twitter.com/marswxreport?lang=en'\n",
    "response = requests.get(url)\n",
    "soup = BeautifulSoup(response.content, 'html.parser')\n",
    ""
   ]
  },
  {
   "cell_type": "code",
   "execution_count": 12,
   "metadata": {},
   "outputs": [
    {
     "output_type": "stream",
     "name": "stdout",
     "text": "InSight sol 485 (2020-04-07) low -93.4ºC (-136.1ºF) high -7.0ºC (19.4ºF)\nwinds from the WNW at 5.2 m/s (11.5 mph) gusting to 17.4 m/s (38.9 mph)\npressure at 6.50 hPa\n"
    }
   ],
   "source": [
    "#Get the first Tweet Parragraph\n",
    "body_content =soup.body.find(\"p\", class_=\"tweet-text\")\n",
    "\n",
    "tweets=[]\n",
    "for body in body_content:\n",
    "    tweets.append(body)\n",
    "\n",
    "mars_weather=tweets[0]\n",
    "print(mars_weather)\n",
    ""
   ]
  }
 ]
}